{
 "cells": [
  {
   "cell_type": "code",
   "id": "initial_id",
   "metadata": {
    "collapsed": true,
    "ExecuteTime": {
     "end_time": "2024-10-12T19:05:48.971195Z",
     "start_time": "2024-10-12T19:05:48.966529Z"
    }
   },
   "source": [
    "from Models import ResNet\n",
    "from Trainer import Trainer\n",
    "from Predictor import Prediction\n",
    "import torch"
   ],
   "outputs": [],
   "execution_count": 4
  },
  {
   "metadata": {
    "jupyter": {
     "is_executing": true
    },
    "ExecuteTime": {
     "start_time": "2024-10-12T19:05:49.770736Z"
    }
   },
   "cell_type": "code",
   "source": [
    "model = ResNet()\n",
    "trainer = Trainer('COMP90086_2024_Project_train/train.csv', 'COMP90086_2024_Project_train/train', model=model)\n",
    "trainer.train()\n",
    "torch.save(trainer.model.state_dict(), 'ResNet_batch128.pth')"
   ],
   "id": "ab8993b8d0a34961",
   "outputs": [
    {
     "name": "stderr",
     "output_type": "stream",
     "text": [
      "D:\\Anaconda\\envs\\CVFinal\\Lib\\site-packages\\torchvision\\models\\_utils.py:208: UserWarning: The parameter 'pretrained' is deprecated since 0.13 and may be removed in the future, please use 'weights' instead.\n",
      "  warnings.warn(\n",
      "D:\\Anaconda\\envs\\CVFinal\\Lib\\site-packages\\torchvision\\models\\_utils.py:223: UserWarning: Arguments other than a weight enum or `None` for 'weights' are deprecated since 0.13 and may be removed in the future. The current behavior is equivalent to passing `weights=ResNet50_Weights.IMAGENET1K_V1`. You can also use `weights=ResNet50_Weights.DEFAULT` to get the most up-to-date weights.\n",
      "  warnings.warn(msg)\n"
     ]
    },
    {
     "name": "stdout",
     "output_type": "stream",
     "text": [
      "Trainings data: 6144 Validation data: 1536\n"
     ]
    },
    {
     "name": "stderr",
     "output_type": "stream",
     "text": [
      "100%|██████████| 48/48 [17:51<00:00, 22.32s/batch, acc=0.32, loss=1.49]  \n"
     ]
    },
    {
     "name": "stdout",
     "output_type": "stream",
     "text": [
      "Epoch 1, Training Loss: 1.5817737107475598, Valid Accuracy: 19.401041666666668\n",
      "              precision    recall  f1-score   support\n",
      "\n",
      "           0       0.39      0.57      0.46       384\n",
      "           1       0.41      0.48      0.44       384\n",
      "           2       0.35      0.05      0.08       307\n",
      "           3       0.23      0.29      0.26       230\n",
      "           4       0.21      0.24      0.22       154\n",
      "           5       0.25      0.06      0.10        77\n",
      "\n",
      "    accuracy                           0.34      1536\n",
      "   macro avg       0.31      0.28      0.26      1536\n",
      "weighted avg       0.34      0.34      0.31      1536\n",
      "\n",
      "[[ 4 14  1  6  6  0]\n",
      " [ 0 17  0  4  7  0]\n",
      " [ 4 11  0  7  8  0]\n",
      " [ 0  8  0  6  3  0]\n",
      " [ 1  9  0  2  2  0]\n",
      " [ 0  6  0  1  1  0]]\n"
     ]
    },
    {
     "name": "stderr",
     "output_type": "stream",
     "text": [
      "100%|██████████| 48/48 [14:38<00:00, 18.30s/batch, acc=0.531, loss=1.27]\n"
     ]
    },
    {
     "name": "stdout",
     "output_type": "stream",
     "text": [
      "Epoch 2, Training Loss: 1.3502817004919052, Valid Accuracy: 20.638020833333332\n",
      "              precision    recall  f1-score   support\n",
      "\n",
      "           0       0.58      0.50      0.54       384\n",
      "           1       0.36      0.75      0.49       384\n",
      "           2       0.40      0.36      0.38       307\n",
      "           3       0.41      0.16      0.23       230\n",
      "           4       0.39      0.11      0.17       154\n",
      "           5       0.00      0.00      0.00        77\n",
      "\n",
      "    accuracy                           0.42      1536\n",
      "   macro avg       0.36      0.31      0.30      1536\n",
      "weighted avg       0.42      0.42      0.38      1536\n",
      "\n",
      "[[ 7  7 10  6  1  0]\n",
      " [ 5  8  5  7  1  2]\n",
      " [ 8 10  1  6  2  3]\n",
      " [ 5  4  4  2  1  1]\n",
      " [ 2  1  4  6  1  0]\n",
      " [ 2  4  1  0  1  0]]\n"
     ]
    },
    {
     "name": "stderr",
     "output_type": "stream",
     "text": [
      "100%|██████████| 48/48 [14:32<00:00, 18.17s/batch, acc=0.539, loss=1.09]\n"
     ]
    },
    {
     "name": "stdout",
     "output_type": "stream",
     "text": [
      "Epoch 3, Training Loss: 1.226357222845157, Valid Accuracy: 21.809895833333332\n",
      "              precision    recall  f1-score   support\n",
      "\n",
      "           0       0.46      0.75      0.57       384\n",
      "           1       0.47      0.59      0.53       384\n",
      "           2       0.57      0.40      0.47       307\n",
      "           3       0.46      0.37      0.41       230\n",
      "           4       0.64      0.06      0.11       154\n",
      "           5       0.38      0.08      0.13        77\n",
      "\n",
      "    accuracy                           0.48      1536\n",
      "   macro avg       0.50      0.38      0.37      1536\n",
      "weighted avg       0.50      0.48      0.45      1536\n",
      "\n",
      "[[ 9 13  6  3  0  0]\n",
      " [ 8  8  4  8  0  0]\n",
      " [11  6  8  5  0  0]\n",
      " [ 7  6  1  3  0  0]\n",
      " [ 5  1  2  6  0  0]\n",
      " [ 4  3  1  0  0  0]]\n"
     ]
    },
    {
     "name": "stderr",
     "output_type": "stream",
     "text": [
      "100%|██████████| 48/48 [14:15<00:00, 17.83s/batch, acc=0.562, loss=1.07] \n"
     ]
    },
    {
     "name": "stdout",
     "output_type": "stream",
     "text": [
      "Epoch 4, Training Loss: 1.1252296331028144, Valid Accuracy: 20.182291666666668\n",
      "              precision    recall  f1-score   support\n",
      "\n",
      "           0       0.40      0.86      0.54       384\n",
      "           1       0.64      0.24      0.35       384\n",
      "           2       0.39      0.52      0.45       307\n",
      "           3       0.30      0.15      0.20       230\n",
      "           4       0.40      0.11      0.17       154\n",
      "           5       1.00      0.01      0.03        77\n",
      "\n",
      "    accuracy                           0.41      1536\n",
      "   macro avg       0.52      0.32      0.29      1536\n",
      "weighted avg       0.47      0.41      0.36      1536\n",
      "\n",
      "[[ 7  9  6  1  8  0]\n",
      " [ 8  4 10  4  2  0]\n",
      " [ 8  5 11  1  5  0]\n",
      " [ 4  5  3  2  3  0]\n",
      " [ 1  3  4  2  3  1]\n",
      " [ 3  2  2  0  1  0]]\n"
     ]
    },
    {
     "name": "stderr",
     "output_type": "stream",
     "text": [
      "100%|██████████| 48/48 [14:38<00:00, 18.30s/batch, acc=0.539, loss=1.14] \n"
     ]
    },
    {
     "name": "stdout",
     "output_type": "stream",
     "text": [
      "Epoch 5, Training Loss: 1.0398549462358158, Valid Accuracy: 21.484375\n",
      "              precision    recall  f1-score   support\n",
      "\n",
      "           0       0.83      0.46      0.59       384\n",
      "           1       0.53      0.72      0.61       384\n",
      "           2       0.50      0.63      0.56       307\n",
      "           3       0.51      0.44      0.47       230\n",
      "           4       0.37      0.48      0.42       154\n",
      "           5       0.29      0.05      0.09        77\n",
      "\n",
      "    accuracy                           0.54      1536\n",
      "   macro avg       0.50      0.46      0.46      1536\n",
      "weighted avg       0.57      0.54      0.53      1536\n",
      "\n",
      "[[ 8  8  6  5  3  1]\n",
      " [10  8  2  3  5  0]\n",
      " [11  7  6  2  4  0]\n",
      " [ 4  3  4  2  3  1]\n",
      " [ 1  5  3  2  3  0]\n",
      " [ 1  2  2  1  2  0]]\n"
     ]
    },
    {
     "name": "stderr",
     "output_type": "stream",
     "text": [
      "  4%|▍         | 2/48 [00:34<13:07, 17.11s/batch, acc=0.547, loss=1.04] "
     ]
    }
   ],
   "execution_count": null
  },
  {
   "metadata": {
    "ExecuteTime": {
     "end_time": "2024-10-13T02:27:03.818920Z",
     "start_time": "2024-10-13T02:27:03.463864Z"
    }
   },
   "cell_type": "code",
   "source": [
    "\n",
    "trainer.plt_curve()\n"
   ],
   "id": "aae36bb9b71fd0f5",
   "outputs": [
    {
     "ename": "NameError",
     "evalue": "name 'trainer' is not defined",
     "output_type": "error",
     "traceback": [
      "\u001B[1;31m---------------------------------------------------------------------------\u001B[0m",
      "\u001B[1;31mNameError\u001B[0m                                 Traceback (most recent call last)",
      "Cell \u001B[1;32mIn[1], line 1\u001B[0m\n\u001B[1;32m----> 1\u001B[0m trainer\u001B[38;5;241m.\u001B[39mplt_curve()\n",
      "\u001B[1;31mNameError\u001B[0m: name 'trainer' is not defined"
     ]
    }
   ],
   "execution_count": 1
  },
  {
   "metadata": {
    "ExecuteTime": {
     "end_time": "2024-10-12T12:22:18.469177Z",
     "start_time": "2024-10-12T12:21:20.850337Z"
    }
   },
   "cell_type": "code",
   "source": [
    "# Save the trained model after training\n",
    "\n",
    "predictor = Prediction(model = model, csv_file = 'COMP90086_2024_Project_test/test.csv', image_dir = 'COMP90086_2024_Project_test/test', model_path ='ResNet_batch64.pth', batch_size = 64)\n",
    "pred_df = predictor.predict()\n",
    "predictor.save_predictions(pred_df ,'prediction_ResNet_batch64.csv')"
   ],
   "id": "3ed5f4393ba0788e",
   "outputs": [
    {
     "name": "stderr",
     "output_type": "stream",
     "text": [
      "D:\\Anaconda\\envs\\CVFinal\\Lib\\site-packages\\torchvision\\models\\_utils.py:208: UserWarning: The parameter 'pretrained' is deprecated since 0.13 and may be removed in the future, please use 'weights' instead.\n",
      "  warnings.warn(\n",
      "D:\\Anaconda\\envs\\CVFinal\\Lib\\site-packages\\torchvision\\models\\_utils.py:223: UserWarning: Arguments other than a weight enum or `None` for 'weights' are deprecated since 0.13 and may be removed in the future. The current behavior is equivalent to passing `weights=ResNet50_Weights.IMAGENET1K_V1`. You can also use `weights=ResNet50_Weights.DEFAULT` to get the most up-to-date weights.\n",
      "  warnings.warn(msg)\n",
      "D:\\Documents\\2024_S2\\Computer Vision\\Final Project\\CV\\Predictor.py:35: FutureWarning: You are using `torch.load` with `weights_only=False` (the current default value), which uses the default pickle module implicitly. It is possible to construct malicious pickle data which will execute arbitrary code during unpickling (See https://github.com/pytorch/pytorch/blob/main/SECURITY.md#untrusted-models for more details). In a future release, the default value for `weights_only` will be flipped to `True`. This limits the functions that could be executed during unpickling. Arbitrary objects will no longer be allowed to be loaded via this mode unless they are explicitly allowlisted by the user via `torch.serialization.add_safe_globals`. We recommend you start setting `weights_only=True` for any use case where you don't have full control of the loaded file. Please open an issue on GitHub for any issues related to this experimental feature.\n",
      "  self.model.load_state_dict(torch.load(self.model_path, map_location=self.device))\n",
      "100%|██████████| 30/30 [00:57<00:00,  1.91s/it]\n"
     ]
    }
   ],
   "execution_count": 4
  }
 ],
 "metadata": {
  "kernelspec": {
   "display_name": "Python 3",
   "language": "python",
   "name": "python3"
  },
  "language_info": {
   "codemirror_mode": {
    "name": "ipython",
    "version": 2
   },
   "file_extension": ".py",
   "mimetype": "text/x-python",
   "name": "python",
   "nbconvert_exporter": "python",
   "pygments_lexer": "ipython2",
   "version": "2.7.6"
  }
 },
 "nbformat": 4,
 "nbformat_minor": 5
}
