{
 "cells": [
  {
   "cell_type": "code",
   "id": "initial_id",
   "metadata": {
    "collapsed": true,
    "ExecuteTime": {
     "end_time": "2024-10-12T14:08:41.945543Z",
     "start_time": "2024-10-12T14:08:38.242370Z"
    }
   },
   "source": [
    "from Models import ResNet\n",
    "from Trainer import Trainer\n",
    "from Predictor import Prediction\n",
    "import torch"
   ],
   "outputs": [],
   "execution_count": 2
  },
  {
   "metadata": {
    "ExecuteTime": {
     "end_time": "2024-10-12T17:42:27.579442Z",
     "start_time": "2024-10-12T14:08:41.946672Z"
    }
   },
   "cell_type": "code",
   "source": [
    "model = ResNet()\n",
    "trainer = Trainer('COMP90086_2024_Project_train/train.csv', 'COMP90086_2024_Project_train/train', model=model)\n",
    "trainer.train()\n",
    "torch.save(trainer.model.state_dict(), 'ResNet_batch64.pth')"
   ],
   "id": "ab8993b8d0a34961",
   "outputs": [
    {
     "name": "stderr",
     "output_type": "stream",
     "text": [
      "D:\\Anaconda\\envs\\CVFinal\\Lib\\site-packages\\torchvision\\models\\_utils.py:208: UserWarning: The parameter 'pretrained' is deprecated since 0.13 and may be removed in the future, please use 'weights' instead.\n",
      "  warnings.warn(\n",
      "D:\\Anaconda\\envs\\CVFinal\\Lib\\site-packages\\torchvision\\models\\_utils.py:223: UserWarning: Arguments other than a weight enum or `None` for 'weights' are deprecated since 0.13 and may be removed in the future. The current behavior is equivalent to passing `weights=ResNet50_Weights.IMAGENET1K_V1`. You can also use `weights=ResNet50_Weights.DEFAULT` to get the most up-to-date weights.\n",
      "  warnings.warn(msg)\n"
     ]
    },
    {
     "name": "stdout",
     "output_type": "stream",
     "text": [
      "Trainings data: 6144 Validation data: 1536\n"
     ]
    },
    {
     "name": "stderr",
     "output_type": "stream",
     "text": [
      "100%|██████████| 96/96 [09:56<00:00,  6.21s/batch, acc=0.375, loss=1.5] \n",
      "D:\\Anaconda\\envs\\CVFinal\\Lib\\site-packages\\sklearn\\metrics\\_classification.py:1531: UndefinedMetricWarning: Precision is ill-defined and being set to 0.0 in labels with no predicted samples. Use `zero_division` parameter to control this behavior.\n",
      "  _warn_prf(average, modifier, f\"{metric.capitalize()} is\", len(result))\n",
      "D:\\Anaconda\\envs\\CVFinal\\Lib\\site-packages\\sklearn\\metrics\\_classification.py:1531: UndefinedMetricWarning: Precision is ill-defined and being set to 0.0 in labels with no predicted samples. Use `zero_division` parameter to control this behavior.\n",
      "  _warn_prf(average, modifier, f\"{metric.capitalize()} is\", len(result))\n",
      "D:\\Anaconda\\envs\\CVFinal\\Lib\\site-packages\\sklearn\\metrics\\_classification.py:1531: UndefinedMetricWarning: Precision is ill-defined and being set to 0.0 in labels with no predicted samples. Use `zero_division` parameter to control this behavior.\n",
      "  _warn_prf(average, modifier, f\"{metric.capitalize()} is\", len(result))\n"
     ]
    },
    {
     "name": "stdout",
     "output_type": "stream",
     "text": [
      "Epoch 1, Training Loss: 1.665401328355074, Valid Accuracy: 24.153645833333332\n",
      "              precision    recall  f1-score   support\n",
      "\n",
      "           0       0.28      0.81      0.42       384\n",
      "           1       0.75      0.01      0.02       384\n",
      "           2       0.00      0.00      0.00       307\n",
      "           3       0.50      0.01      0.02       230\n",
      "           4       0.00      0.00      0.00       154\n",
      "           5       0.12      0.69      0.21        77\n",
      "\n",
      "    accuracy                           0.24      1536\n",
      "   macro avg       0.28      0.25      0.11      1536\n",
      "weighted avg       0.34      0.24      0.12      1536\n",
      "\n",
      "[[ 8  1  2  0  0  0]\n",
      " [ 9  1  3  0  0  1]\n",
      " [12  0  8  1  0  0]\n",
      " [ 5  2  1  1  0  0]\n",
      " [ 3  1  1  1  0  0]\n",
      " [ 0  2  1  0  0  0]]\n"
     ]
    },
    {
     "name": "stderr",
     "output_type": "stream",
     "text": [
      "100%|██████████| 96/96 [09:55<00:00,  6.21s/batch, acc=0.375, loss=1.44]\n"
     ]
    },
    {
     "name": "stdout",
     "output_type": "stream",
     "text": [
      "Epoch 2, Training Loss: 1.517089984069268, Valid Accuracy: 21.028645833333332\n",
      "              precision    recall  f1-score   support\n",
      "\n",
      "           0       0.32      0.39      0.35       384\n",
      "           1       0.33      0.80      0.47       384\n",
      "           2       0.46      0.05      0.09       307\n",
      "           3       0.00      0.00      0.00       230\n",
      "           4       0.00      0.00      0.00       154\n",
      "           5       0.20      0.25      0.22        77\n",
      "\n",
      "    accuracy                           0.32      1536\n",
      "   macro avg       0.22      0.25      0.19      1536\n",
      "weighted avg       0.26      0.32      0.23      1536\n",
      "\n",
      "[[ 5  5  0  0  0  1]\n",
      " [ 4  7  1  1  0  1]\n",
      " [ 7 11  3  0  0  0]\n",
      " [ 2  5  1  1  0  0]\n",
      " [ 1  2  3  0  0  0]\n",
      " [ 0  0  3  0  0  0]]\n"
     ]
    },
    {
     "name": "stderr",
     "output_type": "stream",
     "text": [
      "100%|██████████| 96/96 [09:53<00:00,  6.18s/batch, acc=0.406, loss=1.27]\n"
     ]
    },
    {
     "name": "stdout",
     "output_type": "stream",
     "text": [
      "Epoch 3, Training Loss: 1.371229516963164, Valid Accuracy: 19.3359375\n",
      "              precision    recall  f1-score   support\n",
      "\n",
      "           0       0.74      0.31      0.44       384\n",
      "           1       0.50      0.43      0.46       384\n",
      "           2       0.38      0.26      0.31       307\n",
      "           3       0.25      0.24      0.24       230\n",
      "           4       0.20      0.49      0.28       154\n",
      "           5       0.21      0.61      0.31        77\n",
      "\n",
      "    accuracy                           0.35      1536\n",
      "   macro avg       0.38      0.39      0.34      1536\n",
      "weighted avg       0.45      0.35      0.37      1536\n",
      "\n",
      "[[0 5 3 2 1 0]\n",
      " [1 3 1 6 3 0]\n",
      " [3 8 0 3 7 0]\n",
      " [1 3 0 2 3 0]\n",
      " [2 1 2 1 0 0]\n",
      " [0 1 0 1 1 0]]\n"
     ]
    },
    {
     "name": "stderr",
     "output_type": "stream",
     "text": [
      "100%|██████████| 96/96 [09:57<00:00,  6.22s/batch, acc=0.469, loss=1.16]\n"
     ]
    },
    {
     "name": "stdout",
     "output_type": "stream",
     "text": [
      "Epoch 4, Training Loss: 1.278990947951873, Valid Accuracy: 18.684895833333332\n",
      "              precision    recall  f1-score   support\n",
      "\n",
      "           0       0.69      0.08      0.14       384\n",
      "           1       0.35      0.34      0.34       384\n",
      "           2       0.36      0.26      0.30       307\n",
      "           3       0.24      0.51      0.33       230\n",
      "           4       0.22      0.53      0.31       154\n",
      "           5       0.25      0.10      0.15        77\n",
      "\n",
      "    accuracy                           0.29      1536\n",
      "   macro avg       0.35      0.30      0.26      1536\n",
      "weighted avg       0.40      0.29      0.27      1536\n",
      "\n",
      "[[2 4 1 2 1 1]\n",
      " [6 4 0 4 0 0]\n",
      " [4 4 7 3 2 1]\n",
      " [3 0 3 2 1 0]\n",
      " [1 3 1 0 1 0]\n",
      " [0 1 1 0 1 0]]\n"
     ]
    },
    {
     "name": "stderr",
     "output_type": "stream",
     "text": [
      "100%|██████████| 96/96 [09:54<00:00,  6.20s/batch, acc=0.531, loss=1.16] \n"
     ]
    },
    {
     "name": "stdout",
     "output_type": "stream",
     "text": [
      "Epoch 5, Training Loss: 1.2017796238263447, Valid Accuracy: 19.205729166666668\n",
      "              precision    recall  f1-score   support\n",
      "\n",
      "           0       0.78      0.47      0.59       384\n",
      "           1       0.63      0.50      0.56       384\n",
      "           2       0.45      0.64      0.53       307\n",
      "           3       0.35      0.67      0.46       230\n",
      "           4       0.30      0.22      0.26       154\n",
      "           5       0.33      0.03      0.05        77\n",
      "\n",
      "    accuracy                           0.50      1536\n",
      "   macro avg       0.47      0.42      0.41      1536\n",
      "weighted avg       0.54      0.50      0.49      1536\n",
      "\n",
      "[[2 2 1 6 0 0]\n",
      " [4 5 3 2 0 0]\n",
      " [4 4 4 4 4 1]\n",
      " [2 2 1 4 0 0]\n",
      " [1 2 1 1 1 0]\n",
      " [0 2 0 1 0 0]]\n"
     ]
    },
    {
     "name": "stderr",
     "output_type": "stream",
     "text": [
      "100%|██████████| 96/96 [09:54<00:00,  6.20s/batch, acc=0.656, loss=1.02] \n"
     ]
    },
    {
     "name": "stdout",
     "output_type": "stream",
     "text": [
      "Epoch 6, Training Loss: 1.1350570457677047, Valid Accuracy: 19.466145833333332\n",
      "              precision    recall  f1-score   support\n",
      "\n",
      "           0       0.75      0.49      0.59       384\n",
      "           1       0.62      0.53      0.57       384\n",
      "           2       0.48      0.60      0.53       307\n",
      "           3       0.40      0.45      0.42       230\n",
      "           4       0.32      0.49      0.39       154\n",
      "           5       0.26      0.26      0.26        77\n",
      "\n",
      "    accuracy                           0.50      1536\n",
      "   macro avg       0.47      0.47      0.46      1536\n",
      "weighted avg       0.54      0.50      0.51      1536\n",
      "\n",
      "[[2 2 1 5 1 0]\n",
      " [2 2 3 2 3 2]\n",
      " [7 9 3 1 1 0]\n",
      " [1 2 2 1 2 1]\n",
      " [1 0 2 0 1 2]\n",
      " [1 1 1 0 0 0]]\n"
     ]
    },
    {
     "name": "stderr",
     "output_type": "stream",
     "text": [
      "100%|██████████| 96/96 [09:59<00:00,  6.24s/batch, acc=0.594, loss=1.04] \n"
     ]
    },
    {
     "name": "stdout",
     "output_type": "stream",
     "text": [
      "Epoch 7, Training Loss: 1.0558426299442847, Valid Accuracy: 18.9453125\n",
      "              precision    recall  f1-score   support\n",
      "\n",
      "           0       0.65      0.63      0.64       384\n",
      "           1       0.55      0.64      0.59       384\n",
      "           2       0.50      0.62      0.55       307\n",
      "           3       0.43      0.45      0.44       230\n",
      "           4       0.34      0.19      0.24       154\n",
      "           5       0.75      0.08      0.14        77\n",
      "\n",
      "    accuracy                           0.53      1536\n",
      "   macro avg       0.54      0.43      0.43      1536\n",
      "weighted avg       0.54      0.53      0.52      1536\n",
      "\n",
      "[[3 1 3 4 0 0]\n",
      " [1 6 1 4 2 0]\n",
      " [4 3 8 3 2 1]\n",
      " [3 3 0 0 2 1]\n",
      " [2 2 1 1 0 0]\n",
      " [0 2 1 0 0 0]]\n"
     ]
    },
    {
     "name": "stderr",
     "output_type": "stream",
     "text": [
      "100%|██████████| 96/96 [09:57<00:00,  6.23s/batch, acc=0.625, loss=1.03] \n"
     ]
    },
    {
     "name": "stdout",
     "output_type": "stream",
     "text": [
      "Epoch 8, Training Loss: 1.0029915732642014, Valid Accuracy: 23.046875\n",
      "              precision    recall  f1-score   support\n",
      "\n",
      "           0       0.73      0.53      0.62       384\n",
      "           1       0.53      0.57      0.55       384\n",
      "           2       0.44      0.68      0.54       307\n",
      "           3       0.57      0.31      0.40       230\n",
      "           4       0.45      0.38      0.41       154\n",
      "           5       0.30      0.47      0.37        77\n",
      "\n",
      "    accuracy                           0.52      1536\n",
      "   macro avg       0.51      0.49      0.48      1536\n",
      "weighted avg       0.55      0.52      0.52      1536\n",
      "\n",
      "[[7 2 1 1 0 0]\n",
      " [3 5 3 0 1 2]\n",
      " [2 5 6 2 4 2]\n",
      " [2 2 2 3 0 0]\n",
      " [1 2 3 0 0 0]\n",
      " [0 2 0 0 1 0]]\n"
     ]
    },
    {
     "name": "stderr",
     "output_type": "stream",
     "text": [
      "100%|██████████| 96/96 [09:57<00:00,  6.22s/batch, acc=0.5, loss=1.2]    \n"
     ]
    },
    {
     "name": "stdout",
     "output_type": "stream",
     "text": [
      "Epoch 9, Training Loss: 0.9408871003737053, Valid Accuracy: 20.8984375\n",
      "              precision    recall  f1-score   support\n",
      "\n",
      "           0       0.64      0.65      0.64       384\n",
      "           1       0.49      0.75      0.59       384\n",
      "           2       0.55      0.44      0.49       307\n",
      "           3       0.60      0.27      0.37       230\n",
      "           4       0.49      0.36      0.41       154\n",
      "           5       0.33      0.43      0.37        77\n",
      "\n",
      "    accuracy                           0.53      1536\n",
      "   macro avg       0.52      0.48      0.48      1536\n",
      "weighted avg       0.55      0.53      0.52      1536\n",
      "\n",
      "[[5 1 2 2 1 0]\n",
      " [4 4 4 2 0 0]\n",
      " [7 9 3 1 0 1]\n",
      " [1 3 2 0 3 0]\n",
      " [1 5 0 0 0 0]\n",
      " [0 0 2 0 0 1]]\n"
     ]
    },
    {
     "name": "stderr",
     "output_type": "stream",
     "text": [
      "100%|██████████| 96/96 [09:59<00:00,  6.24s/batch, acc=0.672, loss=0.89] \n"
     ]
    },
    {
     "name": "stdout",
     "output_type": "stream",
     "text": [
      "Epoch 10, Training Loss: 0.9037562360366186, Valid Accuracy: 21.549479166666668\n",
      "              precision    recall  f1-score   support\n",
      "\n",
      "           0       0.88      0.48      0.62       384\n",
      "           1       0.70      0.57      0.63       384\n",
      "           2       0.50      0.72      0.59       307\n",
      "           3       0.38      0.62      0.47       230\n",
      "           4       0.33      0.32      0.32       154\n",
      "           5       0.33      0.21      0.25        77\n",
      "\n",
      "    accuracy                           0.54      1536\n",
      "   macro avg       0.52      0.49      0.48      1536\n",
      "weighted avg       0.60      0.54      0.55      1536\n",
      "\n",
      "[[1 2 5 2 1 0]\n",
      " [4 2 3 4 1 0]\n",
      " [8 5 5 0 2 1]\n",
      " [1 3 3 1 1 0]\n",
      " [2 1 2 0 1 0]\n",
      " [0 0 0 2 1 0]]\n"
     ]
    },
    {
     "name": "stderr",
     "output_type": "stream",
     "text": [
      "100%|██████████| 96/96 [09:56<00:00,  6.22s/batch, acc=0.688, loss=0.841]\n"
     ]
    },
    {
     "name": "stdout",
     "output_type": "stream",
     "text": [
      "Epoch 11, Training Loss: 0.8303584512323141, Valid Accuracy: 21.614583333333332\n",
      "              precision    recall  f1-score   support\n",
      "\n",
      "           0       0.64      0.65      0.65       384\n",
      "           1       0.72      0.56      0.63       384\n",
      "           2       0.53      0.57      0.55       307\n",
      "           3       0.43      0.37      0.40       230\n",
      "           4       0.35      0.55      0.43       154\n",
      "           5       0.33      0.34      0.34        77\n",
      "\n",
      "    accuracy                           0.54      1536\n",
      "   macro avg       0.50      0.51      0.50      1536\n",
      "weighted avg       0.56      0.54      0.55      1536\n",
      "\n",
      "[[5 0 2 1 2 1]\n",
      " [2 5 2 3 1 1]\n",
      " [7 4 4 2 4 0]\n",
      " [2 1 2 2 0 2]\n",
      " [1 2 2 1 0 0]\n",
      " [0 1 1 1 0 0]]\n"
     ]
    },
    {
     "name": "stderr",
     "output_type": "stream",
     "text": [
      "100%|██████████| 96/96 [09:56<00:00,  6.21s/batch, acc=0.797, loss=0.618]\n"
     ]
    },
    {
     "name": "stdout",
     "output_type": "stream",
     "text": [
      "Epoch 12, Training Loss: 0.7879661675542593, Valid Accuracy: 19.270833333333332\n",
      "              precision    recall  f1-score   support\n",
      "\n",
      "           0       0.83      0.45      0.59       384\n",
      "           1       0.60      0.63      0.62       384\n",
      "           2       0.47      0.70      0.56       307\n",
      "           3       0.48      0.37      0.42       230\n",
      "           4       0.39      0.58      0.47       154\n",
      "           5       0.35      0.27      0.31        77\n",
      "\n",
      "    accuracy                           0.54      1536\n",
      "   macro avg       0.52      0.50      0.49      1536\n",
      "weighted avg       0.58      0.54      0.54      1536\n",
      "\n",
      "[[2 2 3 1 3 0]\n",
      " [3 5 4 1 1 0]\n",
      " [3 8 2 4 3 1]\n",
      " [5 1 1 0 1 1]\n",
      " [1 1 1 2 1 0]\n",
      " [0 0 1 1 1 0]]\n"
     ]
    },
    {
     "name": "stderr",
     "output_type": "stream",
     "text": [
      "100%|██████████| 96/96 [09:59<00:00,  6.25s/batch, acc=0.859, loss=0.611]\n"
     ]
    },
    {
     "name": "stdout",
     "output_type": "stream",
     "text": [
      "Epoch 13, Training Loss: 0.712362048526605, Valid Accuracy: 19.205729166666668\n",
      "              precision    recall  f1-score   support\n",
      "\n",
      "           0       0.61      0.71      0.66       384\n",
      "           1       0.72      0.55      0.62       384\n",
      "           2       0.57      0.60      0.58       307\n",
      "           3       0.46      0.55      0.50       230\n",
      "           4       0.49      0.51      0.50       154\n",
      "           5       0.29      0.16      0.20        77\n",
      "\n",
      "    accuracy                           0.57      1536\n",
      "   macro avg       0.52      0.51      0.51      1536\n",
      "weighted avg       0.58      0.57      0.57      1536\n",
      "\n",
      "[[3 1 5 1 1 0]\n",
      " [5 3 1 3 2 0]\n",
      " [6 7 2 1 4 1]\n",
      " [1 2 1 4 1 0]\n",
      " [2 1 1 1 1 0]\n",
      " [2 0 0 0 0 1]]\n"
     ]
    },
    {
     "name": "stderr",
     "output_type": "stream",
     "text": [
      "100%|██████████| 96/96 [09:53<00:00,  6.19s/batch, acc=0.797, loss=0.657]\n"
     ]
    },
    {
     "name": "stdout",
     "output_type": "stream",
     "text": [
      "Epoch 14, Training Loss: 0.6409531707564989, Valid Accuracy: 19.466145833333332\n",
      "              precision    recall  f1-score   support\n",
      "\n",
      "           0       0.70      0.63      0.66       384\n",
      "           1       0.73      0.58      0.65       384\n",
      "           2       0.62      0.59      0.60       307\n",
      "           3       0.46      0.55      0.50       230\n",
      "           4       0.45      0.41      0.43       154\n",
      "           5       0.27      0.61      0.38        77\n",
      "\n",
      "    accuracy                           0.58      1536\n",
      "   macro avg       0.54      0.56      0.54      1536\n",
      "weighted avg       0.61      0.58      0.58      1536\n",
      "\n",
      "[[3 3 2 1 2 0]\n",
      " [4 4 2 2 2 0]\n",
      " [4 3 5 6 1 2]\n",
      " [3 2 2 1 0 1]\n",
      " [1 1 2 0 2 0]\n",
      " [2 1 0 0 0 0]]\n"
     ]
    },
    {
     "name": "stderr",
     "output_type": "stream",
     "text": [
      "100%|██████████| 96/96 [09:55<00:00,  6.21s/batch, acc=0.75, loss=0.551] \n"
     ]
    },
    {
     "name": "stdout",
     "output_type": "stream",
     "text": [
      "Epoch 15, Training Loss: 0.5340054932360848, Valid Accuracy: 20.182291666666668\n",
      "              precision    recall  f1-score   support\n",
      "\n",
      "           0       0.74      0.53      0.61       384\n",
      "           1       0.74      0.47      0.57       384\n",
      "           2       0.48      0.64      0.55       307\n",
      "           3       0.48      0.53      0.51       230\n",
      "           4       0.35      0.66      0.46       154\n",
      "           5       0.24      0.19      0.21        77\n",
      "\n",
      "    accuracy                           0.53      1536\n",
      "   macro avg       0.50      0.50      0.49      1536\n",
      "weighted avg       0.58      0.53      0.54      1536\n",
      "\n",
      "[[3 2 1 2 3 0]\n",
      " [4 3 2 4 0 1]\n",
      " [4 5 5 3 2 2]\n",
      " [2 1 2 3 1 0]\n",
      " [1 1 2 1 1 0]\n",
      " [1 1 0 1 0 0]]\n"
     ]
    },
    {
     "name": "stderr",
     "output_type": "stream",
     "text": [
      "100%|██████████| 96/96 [09:55<00:00,  6.20s/batch, acc=0.781, loss=0.558]\n"
     ]
    },
    {
     "name": "stdout",
     "output_type": "stream",
     "text": [
      "Epoch 16, Training Loss: 0.5023107050607601, Valid Accuracy: 20.182291666666668\n",
      "              precision    recall  f1-score   support\n",
      "\n",
      "           0       0.69      0.55      0.62       384\n",
      "           1       0.54      0.72      0.62       384\n",
      "           2       0.61      0.55      0.58       307\n",
      "           3       0.56      0.39      0.46       230\n",
      "           4       0.41      0.47      0.44       154\n",
      "           5       0.30      0.42      0.35        77\n",
      "\n",
      "    accuracy                           0.56      1536\n",
      "   macro avg       0.52      0.52      0.51      1536\n",
      "weighted avg       0.57      0.56      0.55      1536\n",
      "\n",
      "[[4 3 1 1 2 0]\n",
      " [3 4 4 0 2 1]\n",
      " [6 4 2 4 1 4]\n",
      " [2 2 4 1 0 0]\n",
      " [1 2 2 1 0 0]\n",
      " [2 0 0 1 0 0]]\n"
     ]
    },
    {
     "name": "stderr",
     "output_type": "stream",
     "text": [
      "100%|██████████| 96/96 [09:53<00:00,  6.18s/batch, acc=0.844, loss=0.461]\n"
     ]
    },
    {
     "name": "stdout",
     "output_type": "stream",
     "text": [
      "Epoch 17, Training Loss: 0.4668696674828728, Valid Accuracy: 19.205729166666668\n",
      "              precision    recall  f1-score   support\n",
      "\n",
      "           0       0.68      0.63      0.65       384\n",
      "           1       0.62      0.64      0.63       384\n",
      "           2       0.64      0.56      0.60       307\n",
      "           3       0.59      0.47      0.52       230\n",
      "           4       0.38      0.62      0.47       154\n",
      "           5       0.32      0.32      0.32        77\n",
      "\n",
      "    accuracy                           0.58      1536\n",
      "   macro avg       0.54      0.54      0.53      1536\n",
      "weighted avg       0.59      0.58      0.58      1536\n",
      "\n",
      "[[3 2 3 1 0 2]\n",
      " [2 6 2 1 1 2]\n",
      " [7 6 4 2 2 0]\n",
      " [1 3 3 1 0 1]\n",
      " [2 1 1 0 2 0]\n",
      " [1 0 0 0 2 0]]\n"
     ]
    },
    {
     "name": "stderr",
     "output_type": "stream",
     "text": [
      "100%|██████████| 96/96 [09:54<00:00,  6.20s/batch, acc=0.875, loss=0.459]\n"
     ]
    },
    {
     "name": "stdout",
     "output_type": "stream",
     "text": [
      "Epoch 18, Training Loss: 0.39476004413639504, Valid Accuracy: 19.401041666666668\n",
      "              precision    recall  f1-score   support\n",
      "\n",
      "           0       0.57      0.71      0.64       384\n",
      "           1       0.64      0.51      0.57       384\n",
      "           2       0.54      0.51      0.53       307\n",
      "           3       0.47      0.54      0.50       230\n",
      "           4       0.40      0.42      0.41       154\n",
      "           5       0.28      0.10      0.15        77\n",
      "\n",
      "    accuracy                           0.54      1536\n",
      "   macro avg       0.48      0.47      0.47      1536\n",
      "weighted avg       0.53      0.54      0.53      1536\n",
      "\n",
      "[[3 1 4 2 1 0]\n",
      " [6 3 3 2 0 0]\n",
      " [7 2 4 5 1 2]\n",
      " [3 3 0 0 3 0]\n",
      " [0 2 2 0 2 0]\n",
      " [0 1 1 0 1 0]]\n"
     ]
    },
    {
     "name": "stderr",
     "output_type": "stream",
     "text": [
      "100%|██████████| 96/96 [09:57<00:00,  6.23s/batch, acc=0.828, loss=0.388]\n"
     ]
    },
    {
     "name": "stdout",
     "output_type": "stream",
     "text": [
      "Epoch 19, Training Loss: 0.32041415106505156, Valid Accuracy: 20.963541666666668\n",
      "              precision    recall  f1-score   support\n",
      "\n",
      "           0       0.53      0.74      0.62       384\n",
      "           1       0.62      0.58      0.60       384\n",
      "           2       0.48      0.57      0.52       307\n",
      "           3       0.55      0.39      0.45       230\n",
      "           4       0.45      0.27      0.33       154\n",
      "           5       0.29      0.09      0.14        77\n",
      "\n",
      "    accuracy                           0.53      1536\n",
      "   macro avg       0.49      0.44      0.44      1536\n",
      "weighted avg       0.53      0.53      0.52      1536\n",
      "\n",
      "[[5 2 3 0 1 0]\n",
      " [6 3 2 1 1 1]\n",
      " [6 8 4 1 2 0]\n",
      " [1 2 3 2 1 0]\n",
      " [0 0 5 1 0 0]\n",
      " [0 1 0 1 0 1]]\n"
     ]
    },
    {
     "name": "stderr",
     "output_type": "stream",
     "text": [
      "100%|██████████| 96/96 [09:54<00:00,  6.19s/batch, acc=0.922, loss=0.178] \n"
     ]
    },
    {
     "name": "stdout",
     "output_type": "stream",
     "text": [
      "Epoch 20, Training Loss: 0.25747782775821787, Valid Accuracy: 20.052083333333332\n",
      "              precision    recall  f1-score   support\n",
      "\n",
      "           0       0.68      0.59      0.64       384\n",
      "           1       0.50      0.74      0.60       384\n",
      "           2       0.69      0.45      0.54       307\n",
      "           3       0.46      0.60      0.52       230\n",
      "           4       0.47      0.32      0.38       154\n",
      "           5       0.37      0.14      0.21        77\n",
      "\n",
      "    accuracy                           0.55      1536\n",
      "   macro avg       0.53      0.47      0.48      1536\n",
      "weighted avg       0.57      0.55      0.54      1536\n",
      "\n",
      "[[2 3 1 5 0 0]\n",
      " [4 2 4 3 1 0]\n",
      " [6 7 4 1 3 0]\n",
      " [3 2 2 2 0 0]\n",
      " [0 2 1 1 2 0]\n",
      " [1 1 0 1 0 0]]\n"
     ]
    }
   ],
   "execution_count": 3
  },
  {
   "metadata": {
    "ExecuteTime": {
     "end_time": "2024-10-12T18:13:09.019514Z",
     "start_time": "2024-10-12T18:13:08.568962Z"
    }
   },
   "cell_type": "code",
   "source": [
    "\n",
    "trainer.plt_curve()\n"
   ],
   "id": "aae36bb9b71fd0f5",
   "outputs": [
    {
     "data": {
      "text/plain": [
       "<Figure size 1000x500 with 2 Axes>"
      ],
      "image/png": "[encoded data removed]"
     },
     "metadata": {},
     "output_type": "display_data"
    }
   ],
   "execution_count": 4
  },
  {
   "metadata": {
    "ExecuteTime": {
     "end_time": "2024-10-12T12:22:18.469177Z",
     "start_time": "2024-10-12T12:21:20.850337Z"
    }
   },
   "cell_type": "code",
   "source": [
    "# Save the trained model after training\n",
    "\n",
    "predictor = Prediction(model = model, csv_file = 'COMP90086_2024_Project_test/test.csv', image_dir = 'COMP90086_2024_Project_test/test', model_path ='ResNet_batch64.pth', batch_size = 64)\n",
    "pred_df = predictor.predict()\n",
    "predictor.save_predictions(pred_df ,'prediction_ResNet_batch64.csv')"
   ],
   "id": "3ed5f4393ba0788e",
   "outputs": [
    {
     "name": "stderr",
     "output_type": "stream",
     "text": [
      "D:\\Anaconda\\envs\\CVFinal\\Lib\\site-packages\\torchvision\\models\\_utils.py:208: UserWarning: The parameter 'pretrained' is deprecated since 0.13 and may be removed in the future, please use 'weights' instead.\n",
      "  warnings.warn(\n",
      "D:\\Anaconda\\envs\\CVFinal\\Lib\\site-packages\\torchvision\\models\\_utils.py:223: UserWarning: Arguments other than a weight enum or `None` for 'weights' are deprecated since 0.13 and may be removed in the future. The current behavior is equivalent to passing `weights=ResNet50_Weights.IMAGENET1K_V1`. You can also use `weights=ResNet50_Weights.DEFAULT` to get the most up-to-date weights.\n",
      "  warnings.warn(msg)\n",
      "D:\\Documents\\2024_S2\\Computer Vision\\Final Project\\CV\\Predictor.py:35: FutureWarning: You are using `torch.load` with `weights_only=False` (the current default value), which uses the default pickle module implicitly. It is possible to construct malicious pickle data which will execute arbitrary code during unpickling (See https://github.com/pytorch/pytorch/blob/main/SECURITY.md#untrusted-models for more details). In a future release, the default value for `weights_only` will be flipped to `True`. This limits the functions that could be executed during unpickling. Arbitrary objects will no longer be allowed to be loaded via this mode unless they are explicitly allowlisted by the user via `torch.serialization.add_safe_globals`. We recommend you start setting `weights_only=True` for any use case where you don't have full control of the loaded file. Please open an issue on GitHub for any issues related to this experimental feature.\n",
      "  self.model.load_state_dict(torch.load(self.model_path, map_location=self.device))\n",
      "100%|██████████| 30/30 [00:57<00:00,  1.91s/it]\n"
     ]
    }
   ],
   "execution_count": 4
  }
 ],
 "metadata": {
  "kernelspec": {
   "display_name": "Python 3",
   "language": "python",
   "name": "python3"
  },
  "language_info": {
   "codemirror_mode": {
    "name": "ipython",
    "version": 2
   },
   "file_extension": ".py",
   "mimetype": "text/x-python",
   "name": "python",
   "nbconvert_exporter": "python",
   "pygments_lexer": "ipython2",
   "version": "2.7.6"
  }
 },
 "nbformat": 4,
 "nbformat_minor": 5
}
